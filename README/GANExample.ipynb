{
  "nbformat": 4,
  "nbformat_minor": 0,
  "metadata": {
    "colab": {
      "provenance": [],
      "include_colab_link": true
    },
    "kernelspec": {
      "name": "python3",
      "display_name": "Python 3"
    },
    "language_info": {
      "name": "python"
    },
    "accelerator": "GPU"
  },
  "cells": [
    {
      "cell_type": "markdown",
      "metadata": {
        "id": "view-in-github",
        "colab_type": "text"
      },
      "source": [
        "<a href=\"https://colab.research.google.com/github/syed001sufiyan/Challenging-Fake-Image-Detection-Using-GAN/blob/main/README/GANExample.ipynb\" target=\"_parent\"><img src=\"https://colab.research.google.com/assets/colab-badge.svg\" alt=\"Open In Colab\"/></a>"
      ]
    },
    {
      "cell_type": "code",
      "execution_count": 1,
      "metadata": {
        "id": "_mPO--iRYg9T"
      },
      "outputs": [],
      "source": [
        "import tensorflow as tf\n",
        "import numpy as np\n",
        "import matplotlib.pyplot as plt\n",
        "\n",
        "%matplotlib inline"
      ]
    },
    {
      "cell_type": "code",
      "source": [
        "# you can change to fashion_mnist\n",
        "(x_train, y_train), (x_test, y_test) = tf.keras.datasets.mnist.load_data()\n",
        "# (28, 28, 1)\n",
        "x_train = x_train.astype(\"float32\").reshape(-1, 28, 28, 1) / 255.0\n",
        "\n",
        "BATCH_SIZE = 128\n",
        "x_train_ds = (\n",
        "    tf.data.Dataset.from_tensor_slices(x_train)\n",
        "      .batch(BATCH_SIZE, drop_remainder=True)\n",
        "      .prefetch(tf.data.AUTOTUNE)\n",
        ")"
      ],
      "metadata": {
        "colab": {
          "base_uri": "https://localhost:8080/"
        },
        "id": "e4TmiGYCaBq5",
        "outputId": "8253507e-7014-482c-ae15-68fe72c94bc9"
      },
      "execution_count": null,
      "outputs": [
        {
          "output_type": "stream",
          "name": "stdout",
          "text": [
            "Downloading data from https://storage.googleapis.com/tensorflow/tf-keras-datasets/mnist.npz\n",
            "11493376/11490434 [==============================] - 0s 0us/step\n",
            "11501568/11490434 [==============================] - 0s 0us/step\n"
          ]
        }
      ]
    },
    {
      "cell_type": "code",
      "source": [
        "# Creates and manages the architectures for the generator and discriminator\n",
        "class GANArchitecture():\n",
        "    def __init__(self, input_shape, num_factors):\n",
        "      self.input_shape = input_shape\n",
        "      self.num_factors = num_factors\n",
        "\n",
        "    def create_generator(self):\n",
        "      model = tf.keras.models.Sequential([\n",
        "        tf.keras.layers.Dense(100, input_dim = self.num_factors),\n",
        "        tf.keras.layers.LeakyReLU(),\n",
        "        tf.keras.layers.Dense(np.prod(self.input_shape), activation=\"sigmoid\"),\n",
        "        tf.keras.layers.Reshape(self.input_shape)\n",
        "      ])\n",
        "\n",
        "      self.generator = model\n",
        "\n",
        "    def create_discriminator(self):\n",
        "      model = tf.keras.models.Sequential([\n",
        "        tf.keras.layers.Flatten(input_shape=self.input_shape),\n",
        "        tf.keras.layers.Dense(100),\n",
        "        tf.keras.layers.LeakyReLU(),\n",
        "        tf.keras.layers.Dense(1, activation=\"sigmoid\")\n",
        "      ])\n",
        "\n",
        "      self.discriminator = model\n",
        "\n",
        "    def __call__(self):\n",
        "      self.create_generator()\n",
        "      self.create_discriminator()\n",
        "      return self"
      ],
      "metadata": {
        "id": "rB8SccmAbbQg"
      },
      "execution_count": null,
      "outputs": []
    },
    {
      "cell_type": "code",
      "source": [
        "class GANTrainerModel(tf.keras.models.Model):\n",
        "  def __init__(self, input_shape, num_factors, batch_size):\n",
        "    super(GANTrainerModel, self).__init__()\n",
        "    self.arch = GANArchitecture(input_shape, num_factors)()\n",
        "\n",
        "    self.batch_size = batch_size\n",
        "    self.num_factors = num_factors\n",
        "\n",
        "    self.true_labels = tf.ones((batch_size, 1))\n",
        "    self.false_labels = tf.zeros((batch_size, 1))\n",
        "\n",
        "    self.loss_tracker = tf.keras.metrics.Mean(name=\"loss\")\n",
        "    self.gen_loss_tracker = tf.keras.metrics.Mean(name=\"loss_after_gen\")\n",
        "\n",
        "  @property\n",
        "  def metrics(self):\n",
        "    return [self.loss_tracker, self.gen_loss_tracker]\n",
        "\n",
        "  def compile(self, d_optimizer, g_optimizer, loss):\n",
        "    super(GANTrainerModel, self).compile()\n",
        "    self.d_optimizer = d_optimizer\n",
        "    self.g_optimizer = g_optimizer\n",
        "    self.loss = loss\n",
        "\n",
        "  def train_step(self, data):\n",
        "    # [[1, 1, 1], [1, 1, 1], [1, 1, 1]]\n",
        "    # tf.random.normal NOT tf.random.uniform\n",
        "    rand_factors = tf.random.normal((self.batch_size, self.num_factors))\n",
        "    gen_imgs = self.arch.generator(rand_factors)\n",
        "\n",
        "    disc_data = tf.concat([data, gen_imgs], axis=0)\n",
        "    disc_labels = tf.concat([self.true_labels, self.false_labels], axis=0)\n",
        "\n",
        "    # discriminator\n",
        "    with tf.GradientTape() as tape:\n",
        "      disc_pred = self.arch.discriminator(disc_data)\n",
        "      disc_loss = self.loss(disc_labels, disc_pred)\n",
        "\n",
        "    disc_vars = self.arch.discriminator.trainable_variables\n",
        "    disc_gradients = tape.gradient(disc_loss, disc_vars)\n",
        "    self.d_optimizer.apply_gradients(zip(disc_gradients, disc_vars))\n",
        "\n",
        "    # generator\n",
        "    rand_factors = tf.random.normal((self.batch_size, self.num_factors))\n",
        "    trick_labels = self.true_labels\n",
        "\n",
        "    with tf.GradientTape() as tape:\n",
        "      gen_imgs = self.arch.generator(rand_factors)\n",
        "      gen_pred = self.arch.discriminator(gen_imgs)\n",
        "      gen_loss = self.loss(trick_labels, gen_pred)\n",
        "\n",
        "    gen_vars = self.arch.generator.trainable_variables\n",
        "    gen_gradients = tape.gradient(gen_loss, gen_vars)\n",
        "    self.d_optimizer.apply_gradients(zip(gen_gradients, gen_vars))\n",
        "\n",
        "    self.loss_tracker.update_state(disc_loss)\n",
        "    self.gen_loss_tracker.update_state(gen_loss)\n",
        "    return {\n",
        "        \"loss\" : self.loss_tracker.result(),\n",
        "        \"gen_loss\": self.gen_loss_tracker.result()\n",
        "    }\n"
      ],
      "metadata": {
        "id": "I1SDgy1LeE7B"
      },
      "execution_count": null,
      "outputs": []
    },
    {
      "cell_type": "code",
      "source": [
        "INPUT_SHAPE = (28, 28, 1)\n",
        "NUM_FACTORS = 100\n",
        "\n",
        "trainer = GANTrainerModel(INPUT_SHAPE, NUM_FACTORS, BATCH_SIZE)\n",
        "trainer.compile(\n",
        "    loss=tf.keras.losses.BinaryCrossentropy(),\n",
        "    d_optimizer = tf.keras.optimizers.Adam(),\n",
        "    g_optimizer = tf.keras.optimizers.Adam()\n",
        ")"
      ],
      "metadata": {
        "id": "3oUBFp5TivkT"
      },
      "execution_count": null,
      "outputs": []
    },
    {
      "cell_type": "code",
      "source": [
        "trainer.fit(x_train_ds, epochs=20)"
      ],
      "metadata": {
        "colab": {
          "base_uri": "https://localhost:8080/"
        },
        "id": "RztEpajTjXKq",
        "outputId": "5b8870a6-6aeb-4840-dc54-74cb91369127"
      },
      "execution_count": null,
      "outputs": [
        {
          "output_type": "stream",
          "name": "stdout",
          "text": [
            "Epoch 1/20\n",
            "468/468 [==============================] - 7s 7ms/step - loss: 0.0822 - gen_loss: 5.3608\n",
            "Epoch 2/20\n",
            "468/468 [==============================] - 2s 3ms/step - loss: 0.0387 - gen_loss: 8.9848\n",
            "Epoch 3/20\n",
            "468/468 [==============================] - 2s 3ms/step - loss: 0.0647 - gen_loss: 5.7729\n",
            "Epoch 4/20\n",
            "468/468 [==============================] - 2s 4ms/step - loss: 0.1078 - gen_loss: 5.1826\n",
            "Epoch 5/20\n",
            "468/468 [==============================] - 2s 3ms/step - loss: 0.0983 - gen_loss: 4.3584\n",
            "Epoch 6/20\n",
            "468/468 [==============================] - 2s 4ms/step - loss: 0.1500 - gen_loss: 4.2120\n",
            "Epoch 7/20\n",
            "468/468 [==============================] - 2s 4ms/step - loss: 0.1628 - gen_loss: 4.1068\n",
            "Epoch 8/20\n",
            "468/468 [==============================] - 2s 3ms/step - loss: 0.1711 - gen_loss: 3.8469\n",
            "Epoch 9/20\n",
            "468/468 [==============================] - 2s 3ms/step - loss: 0.1907 - gen_loss: 4.0090\n",
            "Epoch 10/20\n",
            "468/468 [==============================] - 2s 4ms/step - loss: 0.2020 - gen_loss: 3.9836\n",
            "Epoch 11/20\n",
            "468/468 [==============================] - 2s 3ms/step - loss: 0.1955 - gen_loss: 3.8625\n",
            "Epoch 12/20\n",
            "468/468 [==============================] - 2s 4ms/step - loss: 0.2421 - gen_loss: 3.5099\n",
            "Epoch 13/20\n",
            "468/468 [==============================] - 2s 3ms/step - loss: 0.2510 - gen_loss: 3.4197\n",
            "Epoch 14/20\n",
            "468/468 [==============================] - 2s 4ms/step - loss: 0.2754 - gen_loss: 3.0089\n",
            "Epoch 15/20\n",
            "468/468 [==============================] - 2s 4ms/step - loss: 0.2931 - gen_loss: 3.2303\n",
            "Epoch 16/20\n",
            "468/468 [==============================] - 2s 4ms/step - loss: 0.3424 - gen_loss: 3.0080\n",
            "Epoch 17/20\n",
            "468/468 [==============================] - 2s 4ms/step - loss: 0.3084 - gen_loss: 3.0828\n",
            "Epoch 18/20\n",
            "468/468 [==============================] - 2s 4ms/step - loss: 0.3351 - gen_loss: 2.6720\n",
            "Epoch 19/20\n",
            "468/468 [==============================] - 2s 4ms/step - loss: 0.3963 - gen_loss: 2.6901\n",
            "Epoch 20/20\n",
            "468/468 [==============================] - 2s 4ms/step - loss: 0.3451 - gen_loss: 3.1941\n"
          ]
        },
        {
          "output_type": "execute_result",
          "data": {
            "text/plain": [
              "<keras.callbacks.History at 0x7f41600de210>"
            ]
          },
          "metadata": {},
          "execution_count": 6
        }
      ]
    },
    {
      "cell_type": "code",
      "source": [
        "rand_factors = tf.random.normal((1, NUM_FACTORS))\n",
        "gen_imgs = trainer.arch.generator(rand_factors)"
      ],
      "metadata": {
        "id": "0GxlFHVgkMFi"
      },
      "execution_count": null,
      "outputs": []
    },
    {
      "cell_type": "code",
      "source": [
        "plt.imshow(tf.reshape(gen_imgs, [28, 28]), cmap=\"gray\")"
      ],
      "metadata": {
        "colab": {
          "base_uri": "https://localhost:8080/",
          "height": 283
        },
        "id": "e4RHiubpkrIi",
        "outputId": "cd73bf6a-33b5-413f-e5fe-cd83c1e524a3"
      },
      "execution_count": null,
      "outputs": [
        {
          "output_type": "execute_result",
          "data": {
            "text/plain": [
              "<matplotlib.image.AxesImage at 0x7f40e2764050>"
            ]
          },
          "metadata": {},
          "execution_count": 12
        },
        {
          "output_type": "display_data",
          "data": {
            "image/png": "[encoded data removed]",
            "text/plain": [
              "<Figure size 432x288 with 1 Axes>"
            ]
          },
          "metadata": {
            "needs_background": "light"
          }
        }
      ]
    },
    {
      "cell_type": "code",
      "source": [],
      "metadata": {
        "id": "FhgAKzNakr5x"
      },
      "execution_count": null,
      "outputs": []
    }
  ]
}